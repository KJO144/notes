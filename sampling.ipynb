{
 "cells": [
  {
   "cell_type": "code",
   "execution_count": 1,
   "metadata": {},
   "outputs": [],
   "source": [
    "import scipy.stats as sp\n",
    "import numpy as np\n",
    "import matplotlib.pyplot as plt\n"
   ]
  },
  {
   "cell_type": "markdown",
   "metadata": {},
   "source": [
    "Here we explore sampling from a population. We make $n$ draws from a normal distribution $N(\\mu, \\sigma^2)$, and obtain the values $\\{X_i\\}$. We know that $E(X_i) = \\mu$ and $\\sigma^2 = E(X_i^2)-\\mu^2$. We furthermore assume that the $X_i$ are independent. This means we can write $E(X_i X_j) = \\mu^2 + \\delta_{ij} \\sigma^2$.\n",
    "\n",
    "We do not know what the population parameters $\\mu$ and $\\sigma^2$ are, so we will seek to estimate them.\n",
    "\n",
    "We define the sample mean as\n",
    "\n",
    "$$\\overline X = \\frac{1}{n} \\sum_{i=1}^{n} X_i$$\n",
    "\n",
    "and the sample variance as\n",
    "\n",
    "$$S^2 = \\frac{1}{n} \\sum_{i=1}^{n} (X_i-\\overline X)^2$$\n",
    "\n",
    "Because $E(X_i) = \\mu$ it is easy to see that $E(\\overline X) = \\mu$, so that $\\overline X$ is an unbiased estimator of $\\mu$.\n",
    "\n",
    "What is the variance of the sample mean?\n",
    "$$\n",
    "\\begin{align}\n",
    "Var(\\overline X) &= E(\\overline X^2) - E(\\overline X)^2\\\\\n",
    "&= \\frac{1}{n^2} \\sum_{i=1}^n \\sum_{j=1}^n E(X_i X_j) - \\mu^2\\\\\n",
    "&= \\frac{\\sigma^2}{n}\n",
    "\\end{align}\n",
    "$$\n",
    "This is a classic result.\n",
    "\n",
    "Is $S^2$ an unbiased estimator of $\\sigma^2$? The answer is no\n",
    "$$\n",
    "\\begin{align}\n",
    "E(S^2) &= \\frac{1}{n} \\sum_{i=1}^n E(X_i^2) + E(\\overline X^2) -2 E(X_i \\overline X)\\\\\n",
    "&=\\sigma^2 + \\mu^2 + \\mu^2 + \\sigma^2/n - 2\\mu^2 - 2\\sigma^2/n\\\\\n",
    "&= \\sigma^2 \\frac{n-1}{n}\n",
    "\\end{align}\n",
    "$$\n",
    "We can construct a unbiased estimate $S'^2 = S^2 \\frac{n}{n-1}$ if we wish. Of course, for large $n$ it makes little difference."
   ]
  },
  {
   "cell_type": "code",
   "execution_count": 7,
   "metadata": {},
   "outputs": [],
   "source": [
    "N = 6\n",
    "Ns = 100000\n",
    "np.random.seed( 20 )\n",
    "\n",
    "pop_mean = 10\n",
    "pop_std = 2\n",
    "\n",
    "def generate_sample(N):\n",
    "    samples = pop_mean + pop_std * np.random.randn(N)\n",
    "    mean = samples.mean()\n",
    "    variance = samples.var()\n",
    "    return( mean, variance )\n",
    "\n",
    "data = [ generate_sample(N) for i in range(Ns) ]\n",
    "data = np.array( data )\n",
    "means = data[:,0] # these are my Xbars, the means of randomly drawn samples\n",
    "vars = data[:,1]  # these are my S^2s, the variances of randomly drawn samples\n"
   ]
  },
  {
   "cell_type": "code",
   "execution_count": 16,
   "metadata": {},
   "outputs": [
    {
     "name": "stdout",
     "output_type": "stream",
     "text": [
      "10.003912238555491 10\n",
      "0.6712169674194436 0.6666666666666666\n"
     ]
    }
   ],
   "source": [
    "# demonstate that the variance of the sample mean is pop_var/Ns\n",
    "sample_mean = means.mean() # this is E(Xbar)\n",
    "var_sample_mean = np.dot(means - sample_mean, means - sample_mean )/Ns #this is Var(Xbar)\n",
    "print( sample_mean, pop_mean )\n",
    "print( var_sample_mean, pop_std**2/N)\n"
   ]
  },
  {
   "cell_type": "code",
   "execution_count": 37,
   "metadata": {},
   "outputs": [
    {
     "data": {
      "text/plain": [
       "[0.09397422369424545, 0.09397422369424545]"
      ]
     },
     "execution_count": 37,
     "metadata": {},
     "output_type": "execute_result"
    }
   ],
   "source": [
    "import math\n",
    "def mine(x, mu=0., sigma=1.):\n",
    "    return( math.exp( -(x-mu)**2/2/sigma**2) / math.sqrt(2* math.pi*sigma**2) )\n",
    "v = sp.norm.pdf( 0, loc=2, scale=1.3 )\n",
    "m = mine( 0, 2, 1.3 )\n",
    "[ v, m ]\n"
   ]
  },
  {
   "cell_type": "code",
   "execution_count": 75,
   "metadata": {},
   "outputs": [
    {
     "data": {
      "image/png": "[encoded data removed]",
      "text/plain": [
       "<matplotlib.figure.Figure at 0x1a19006eb8>"
      ]
     },
     "metadata": {},
     "output_type": "display_data"
    }
   ],
   "source": [
    "\n",
    "tstats = (means - sample_mean)/var_sample_mean**0.5\n",
    "\n",
    "nbins=30\n",
    "plt.hist( means, nbins, label='sample means' ); # N(pop_mean, pop_std^2/N)\n",
    "plt.hist( vars, nbins, label='sample variances' ); # chi2 with N dofs?\n",
    "plt.hist( tstats, nbins,label='tstat' ); # t-distribution?\n",
    "plt.legend()\n",
    "\n",
    "\n"
   ]
  },
  {
   "cell_type": "code",
   "execution_count": null,
   "metadata": {},
   "outputs": [],
   "source": []
  }
 ],
 "metadata": {
  "kernelspec": {
   "display_name": "Python 3",
   "language": "python",
   "name": "python3"
  },
  "language_info": {
   "codemirror_mode": {
    "name": "ipython",
    "version": 3
   },
   "file_extension": ".py",
   "mimetype": "text/x-python",
   "name": "python",
   "nbconvert_exporter": "python",
   "pygments_lexer": "ipython3",
   "version": "3.6.4"
  }
 },
 "nbformat": 4,
 "nbformat_minor": 2
}
