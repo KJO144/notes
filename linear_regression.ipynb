{
 "cells": [
  {
   "cell_type": "code",
   "execution_count": 12,
   "metadata": {},
   "outputs": [],
   "source": [
    "import numpy as np\n",
    "from numpy.linalg import inv\n",
    "import statsmodels.api as sm\n",
    "import matplotlib.pyplot as plt\n",
    "import scipy.stats as sp\n",
    "import pandas as pd\n"
   ]
  },
  {
   "cell_type": "markdown",
   "metadata": {},
   "source": [
    "Here we play around with linear regression. We generate some random data and calculate estimates of the optimal linear approximation.\n",
    "\n",
    "We imagine we have $N$ observations and $p$ regressors. Our target is then a vector $y = (y_1, y_2, \\dots , y_N)^T$, while the values of our regressors are arranged into a matrix\n",
    "\n",
    "$\n",
    "X = \\begin{pmatrix}\n",
    "    1     & x_{11} & x_{12} & \\dots & x_{1p} \\\\\n",
    "    1     & x_{21} & x_{22} & \\dots & x_{2p} \\\\\n",
    "    1     & x_{31} & x_{32} & \\dots & x_{3p} \\\\\n",
    "    \\dots &\\dots   & \\dots  & \\dots & \\dots \\\\\n",
    "    1     & x_{N1} & x_{N2} & \\dots & x_{Np}\n",
    "\\end{pmatrix}\n",
    "$\n",
    "\n",
    "The betas are given by\n",
    "$\\beta = (X^T X)^{-1} \\; X^T y$\n",
    "while their covariance matrix is\n",
    "\n",
    "$\\sigma^2\\;(X^T X)^{-1}$ \n",
    "\n"
   ]
  },
  {
   "cell_type": "code",
   "execution_count": 13,
   "metadata": {},
   "outputs": [],
   "source": [
    "def get_data(N, p):\n",
    "    np.random.seed( 20 )\n",
    "    y = np.random.rand( N )\n",
    "    x = np.random.rand( N, p+1)\n",
    "    x[:,0] = 1 # put 1's on the left-most column\n",
    "    return x, y\n",
    "\n",
    "def run_regression( x, y ):\n",
    "    xTxInv = inv( np.dot( x.T, x ) )\n",
    "    betas = np.dot( xTxInv, np.dot( x.T, y ) )\n",
    "\n",
    "    fit_values = np.dot( x, betas )\n",
    "    residuals = y - fit_values\n",
    "    num_points = y.size\n",
    "    num_regressors = x.shape[1] # includes the 1s\n",
    "    sumsq_resid = np.dot( residuals, residuals )/(num_points-num_regressors) # understand dofs\n",
    "    errors = np.sqrt( np.diagonal( xTxInv ) * sumsq_resid )\n",
    "    R2 = 1 - sum( residuals * residuals )/sum( (y - y.mean())**2 )\n",
    "    tstats = betas/errors\n",
    "    pvalues = ( 1 - sp.t.cdf(tstats, N-p-1))*2 # why N-p-1 dofs?\n",
    "    return betas, errors, pvalues, R2"
   ]
  },
  {
   "cell_type": "code",
   "execution_count": 14,
   "metadata": {},
   "outputs": [
    {
     "data": {
      "text/html": [
       "<div>\n",
       "<style scoped>\n",
       "    .dataframe tbody tr th:only-of-type {\n",
       "        vertical-align: middle;\n",
       "    }\n",
       "\n",
       "    .dataframe tbody tr th {\n",
       "        vertical-align: top;\n",
       "    }\n",
       "\n",
       "    .dataframe thead th {\n",
       "        text-align: right;\n",
       "    }\n",
       "</style>\n",
       "<table border=\"1\" class=\"dataframe\">\n",
       "  <thead>\n",
       "    <tr style=\"text-align: right;\">\n",
       "      <th></th>\n",
       "      <th>betas</th>\n",
       "      <th>sm_betas</th>\n",
       "      <th>errors</th>\n",
       "      <th>sm_errors</th>\n",
       "    </tr>\n",
       "  </thead>\n",
       "  <tbody>\n",
       "    <tr>\n",
       "      <th>0</th>\n",
       "      <td>0.309195</td>\n",
       "      <td>0.309195</td>\n",
       "      <td>0.164837</td>\n",
       "      <td>0.164837</td>\n",
       "    </tr>\n",
       "    <tr>\n",
       "      <th>1</th>\n",
       "      <td>0.436566</td>\n",
       "      <td>0.436566</td>\n",
       "      <td>0.194933</td>\n",
       "      <td>0.194933</td>\n",
       "    </tr>\n",
       "    <tr>\n",
       "      <th>2</th>\n",
       "      <td>0.067805</td>\n",
       "      <td>0.067805</td>\n",
       "      <td>0.203740</td>\n",
       "      <td>0.203740</td>\n",
       "    </tr>\n",
       "  </tbody>\n",
       "</table>\n",
       "</div>"
      ],
      "text/plain": [
       "      betas  sm_betas    errors  sm_errors\n",
       "0  0.309195  0.309195  0.164837   0.164837\n",
       "1  0.436566  0.436566  0.194933   0.194933\n",
       "2  0.067805  0.067805  0.203740   0.203740"
      ]
     },
     "execution_count": 14,
     "metadata": {},
     "output_type": "execute_result"
    }
   ],
   "source": [
    "# check that we get the same result as the statsmodels package\n",
    "N = 30\n",
    "p = 2\n",
    "x, y = get_data( N, p )\n",
    "betas, errors, pvalues, R2 = run_regression( x, y )\n",
    "ret = sm.OLS(y,x).fit()\n",
    "\n",
    "betas, errors, R2, pvalues, ret.params, ret.bse, ret.rsquared, ret.pvalues\n",
    "pd.DataFrame( {\n",
    "        'betas': betas,\n",
    "        'sm_betas': ret.params,\n",
    "        'errors': errors,\n",
    "        'sm_errors': ret.bse\n",
    "},columns=['betas', 'sm_betas', 'errors', 'sm_errors'] )\n",
    "#ret.summary()\n",
    "\n"
   ]
  },
  {
   "cell_type": "markdown",
   "metadata": {},
   "source": [
    "When $p-1$ the above formulae simplify as follows\n",
    "\n",
    "$\\beta_1 = \\frac{\\textrm{Cov}(y, x)}{\\textrm{Var}(x)}$\n"
   ]
  },
  {
   "cell_type": "code",
   "execution_count": 15,
   "metadata": {},
   "outputs": [
    {
     "data": {
      "text/plain": [
       "([0.35597466024429536, 0.4310049825257846], array([0.35597466, 0.43100498]))"
      ]
     },
     "execution_count": 15,
     "metadata": {},
     "output_type": "execute_result"
    }
   ],
   "source": [
    "# check that in the case of simple linear regression we recover the usual results\n",
    "N = 30\n",
    "p = 1\n",
    "x, y = get_data( N, p )\n",
    "xcol = x[:,1]\n",
    "betas, errors, pvalues, R2 = run_regression( x, y )\n",
    "covmat = np.cov( xcol,y) \n",
    "b1 = covmat[0, 1]/covmat[0,0] # cov(X,Y)/Var(X)\n",
    "b0 = np.mean(y) - b1*np.mean(xcol) # ybar - b1*xbar\n",
    "\n",
    "[ b0, b1], betas"
   ]
  },
  {
   "cell_type": "code",
   "execution_count": 16,
   "metadata": {},
   "outputs": [
    {
     "data": {
      "text/plain": [
       "<matplotlib.collections.PathCollection at 0x1c14d61a58>"
      ]
     },
     "execution_count": 16,
     "metadata": {},
     "output_type": "execute_result"
    },
    {
     "data": {
      "image/png": "[encoded data removed]",
      "text/plain": [
       "<matplotlib.figure.Figure at 0x1c14c56048>"
      ]
     },
     "metadata": {},
     "output_type": "display_data"
    },
    {
     "data": {
      "image/png": "[encoded data removed]",
      "text/plain": [
       "<matplotlib.figure.Figure at 0x1c14bbed68>"
      ]
     },
     "metadata": {},
     "output_type": "display_data"
    }
   ],
   "source": [
    "plt.figure(0)\n",
    "plt.scatter( xcol, y)\n",
    "\n",
    "fit_values = [ b0 + b1*x for x in xcol]\n",
    "plt.plot( xcol, fit_values )\n",
    "\n",
    "residuals = y - fit_values\n",
    "plt.figure(1)\n",
    "plt.scatter( xcol, residuals)\n"
   ]
  },
  {
   "cell_type": "code",
   "execution_count": null,
   "metadata": {},
   "outputs": [],
   "source": []
  },
  {
   "cell_type": "code",
   "execution_count": null,
   "metadata": {},
   "outputs": [],
   "source": []
  }
 ],
 "metadata": {
  "kernelspec": {
   "display_name": "Python 3",
   "language": "python",
   "name": "python3"
  }
 },
 "nbformat": 4,
 "nbformat_minor": 2
}
