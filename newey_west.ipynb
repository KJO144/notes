{
 "cells": [
  {
   "cell_type": "markdown",
   "metadata": {},
   "source": [
    "Suppose we have a process that generates returns $X_1$, $X_2$ etc. Suppose further that $E(X_i) = \\mu$ and $\\textrm{Cov}(X_i, X_j) = \\sigma_{ij} = \\rho_{ij} \\sigma^2$. Here $\\rho_{ii} = 1$.\n",
    "\n",
    "We can construct the sample mean\n",
    "$$\n",
    "\\overline X = \\frac{1}{N} \\sum_{i=1}^N X_i.\n",
    "$$\n",
    "What if we want to estimate the variance $\\sigma^2$? We can construct\n",
    "$$\n",
    "s^2 = \\frac{1}{N-1} \\sum_{i=1}^N (X_i - \\overline X)^2.\n",
    "$$\n",
    "\n",
    "With a little algebra we can show that if our timeseries exhibits autocovariance then $s^2$ is biased:\n",
    "$$\n",
    "E(s^2) = \\sigma^2 - \\frac{1}{N(N-1)}  \\underset{i\\neq j}{\\sum_{i=1}^N \\sum_{j=1}^N} \\sigma_{ij}\n",
    "$$\n",
    "We can re-write this in terms of progressively more lagged correlations as follows\n",
    "$$\n",
    "E(s^2) = \\sigma^2 - \\frac{2\\sigma^2}{N(N-1)}  \\sum_{k=1}^{N-1} (N-k) \\rho_k \n",
    "$$\n",
    "where $\\rho_k$ is the correlation between observations separated by $k$ time periods. We'd like to find an adjustment $K$ to $s^2$ such that $s^2+K$ is an unbiased estimator of $\\sigma^2$.\n",
    "\n",
    "If $\\mu$ were known we could construct\n",
    "$$\n",
    "L_k = \\frac{1}{N-k} \\sum_{i=1}^{N-k} (X_i - \\mu) (X_{i+k} - \\mu)\n",
    "$$\n",
    "which is an unbiased estimator of the autocovariances:\n",
    "$$\n",
    "E(L_k) = \\sigma^2 \\rho_k.\n",
    "$$\n",
    "Then we can let\n",
    "$$\n",
    "K = \\frac{2}{N(N-1)}  \\sum_{k=1}^{N-1} \\sum_{i=1}^{N-k} (X_i - \\mu) (X_{i+k} - \\mu)\n",
    "$$"
   ]
  },
  {
   "cell_type": "code",
   "execution_count": 1,
   "metadata": {},
   "outputs": [],
   "source": [
    "import numpy as np"
   ]
  },
  {
   "cell_type": "code",
   "execution_count": 5,
   "metadata": {},
   "outputs": [],
   "source": [
    "def cov_matrix(N, sigma, rho):\n",
    "    \"\"\"\n",
    "    Return a NxN covariance matrix, with sigmas on the diagonal\n",
    "    and rho[i] * sigma as the off-diagonal elements\n",
    "    \"\"\"\n",
    "    S = np.eye(N)\n",
    "    lenrho = len(rho)\n",
    "    for i in range(N):\n",
    "        for j in range(N):\n",
    "            d = abs(i-j)            \n",
    "            if d < lenrho:\n",
    "                S[i,j] = sigma*rho[d]\n",
    "            else:\n",
    "                S[i,j] = 0\n",
    "    return S\n",
    "\n",
    "def generate_sample(N, num, S):\n",
    "    \"\"\"\n",
    "    Returns a (num,N) numpy array. There are num samples. Each row\n",
    "    is a time series with zero mean and covariance matrix S.\n",
    "    \"\"\"\n",
    "    L = np.linalg.cholesky(S)\n",
    "\n",
    "    X = np.random.normal(size=(num,N))\n",
    "    #Xcov = X.T@X/(num-1) #approximately the identity matrix\n",
    "    #Zcov = Z.T@Z/(num-1) #approximately S, the desired cov matrix\n",
    "    Z = X@L\n",
    "    return Z\n"
   ]
  },
  {
   "cell_type": "code",
   "execution_count": 15,
   "metadata": {},
   "outputs": [
    {
     "data": {
      "text/plain": [
       "(0.9603200117903499,\n",
       " 0.994828742560699,\n",
       " 0.014677957971954213,\n",
       " 0.01210734368486011,\n",
       " 0.007723429113535111)"
      ]
     },
     "execution_count": 15,
     "metadata": {},
     "output_type": "execute_result"
    }
   ],
   "source": [
    "\n",
    "#np.random.seed(0)\n",
    "\n",
    "sigma = 1\n",
    "rho = [1, 0.5, 0.43, 0.3]\n",
    "\n",
    "\n",
    "N = 60 # length of time-series\n",
    "num = 100000 # number of samples\n",
    "\n",
    "S = cov_matrix(N, sigma, rho)\n",
    "\n",
    "Z = generate_sample(N, num, S)\n",
    "\n",
    "# demean\n",
    "Z_dm = Z - (Z.sum(axis=1)/N)[:, None]\n",
    "\n",
    "# naive variance estimate (Bessel-corrected)\n",
    "naive = (Z_dm*Z_dm).sum(axis=1)/(N-1)\n",
    "naive_avg = naive.sum()/num\n",
    "\n",
    "nlags = len(rho)-1\n",
    "\n",
    "# calculate the Newey-West corrections\n",
    "NW = [2 / N / (N-1) * (Z_dm[:,k:] * Z_dm[:, 0:-k]).sum(axis=1) for k in range(1, nlags+1)]\n",
    "NW = np.array(NW)\n",
    "\n",
    "NW_avg = NW.sum(axis=1)/num\n",
    "\n",
    "NW_adjustment = NW[0:nlags].sum(axis=0)\n",
    "adj = naive + NW_adjustment\n",
    "\n",
    "adj_avg = adj.sum()/num\n",
    "\n",
    "naive_avg, adj_avg, (*NW_avg)\n",
    "\n"
   ]
  },
  {
   "cell_type": "code",
   "execution_count": 14,
   "metadata": {},
   "outputs": [
    {
     "data": {
      "text/plain": [
       "<matplotlib.lines.Line2D at 0x18086a4e908>"
      ]
     },
     "execution_count": 14,
     "metadata": {},
     "output_type": "execute_result"
    },
    {
     "data": {
      "image/png": "[encoded data removed]",
      "text/plain": [
       "<Figure size 432x288 with 1 Axes>"
      ]
     },
     "metadata": {
      "needs_background": "light"
     },
     "output_type": "display_data"
    }
   ],
   "source": [
    "import matplotlib.pyplot as plt\n",
    "\n",
    "bins = 100\n",
    "plt.hist(naive, histtype='step', bins=bins, color='blue');\n",
    "plt.hist(adj, histtype='step', bins=bins, color='red');\n",
    "plt.xlim(0, 1.5)\n",
    "plt.axvline(x=sigma)\n"
   ]
  }
 ],
 "metadata": {
  "kernelspec": {
   "display_name": "Python 3",
   "language": "python",
   "name": "python3"
  },
  "language_info": {
   "codemirror_mode": {
    "name": "ipython",
    "version": 3
   },
   "file_extension": ".py",
   "mimetype": "text/x-python",
   "name": "python",
   "nbconvert_exporter": "python",
   "pygments_lexer": "ipython3",
   "version": "3.7.7"
  }
 },
 "nbformat": 4,
 "nbformat_minor": 4
}
